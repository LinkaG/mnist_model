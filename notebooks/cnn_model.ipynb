{
 "cells": [
  {
   "cell_type": "code",
   "execution_count": 15,
   "id": "8bb18747",
   "metadata": {},
   "outputs": [],
   "source": [
    "import numpy as np\n",
    "import keras_tuner\n",
    "from tensorflow import keras\n",
    "from tensorflow.keras import layers\n",
    "import matplotlib.pyplot as plt\n",
    "import tensorboard\n",
    "from sklearn.metrics import accuracy_score\n",
    "import tensorflow as tf"
   ]
  },
  {
   "cell_type": "markdown",
   "id": "747645b8",
   "metadata": {},
   "source": [
    "### Reading the data"
   ]
  },
  {
   "cell_type": "code",
   "execution_count": 2,
   "id": "44a48067",
   "metadata": {},
   "outputs": [
    {
     "name": "stdout",
     "output_type": "stream",
     "text": [
      "(60000, 28, 28, 1)\n",
      "(60000,)\n",
      "(10000, 28, 28, 1)\n",
      "(10000,)\n"
     ]
    }
   ],
   "source": [
    "(x_train, y_train), (x_test, y_test) = keras.datasets.mnist.load_data()\n",
    "# нормализация.\n",
    "x_train = x_train.astype(\"float32\") / 255\n",
    "x_test = x_test.astype(\"float32\") / 255\n",
    "# Добавляем размер канала для изображения.\n",
    "x_train = np.expand_dims(x_train, -1)\n",
    "x_test = np.expand_dims(x_test, -1)\n",
    "\n",
    "print(x_train.shape)\n",
    "print(y_train.shape)\n",
    "print(x_test.shape)\n",
    "print(y_test.shape)"
   ]
  },
  {
   "cell_type": "code",
   "execution_count": 3,
   "id": "44b12d2e",
   "metadata": {},
   "outputs": [
    {
     "data": {
      "image/png": "[encoded data removed]",
      "text/plain": [
       "<Figure size 576x576 with 4 Axes>"
      ]
     },
     "metadata": {
      "needs_background": "light"
     },
     "output_type": "display_data"
    }
   ],
   "source": [
    "plt.figure(figsize=(8,8))\n",
    "for i in range(4):\n",
    "    plt.subplot(2,2,i+1)\n",
    "    plt.imshow(x_train[i], cmap=plt.get_cmap('gray'))\n",
    "    plt.title('truth: {}'.format(y_train[i]))"
   ]
  },
  {
   "cell_type": "markdown",
   "id": "d8880b77",
   "metadata": {},
   "source": [
    "### Params tuning"
   ]
  },
  {
   "cell_type": "markdown",
   "id": "1064f8b9",
   "metadata": {},
   "source": [
    "В качестве гиперпараметров были выбраны 2 типа модели (многослойный перцептрон и сверточная сеть), количество слоев, фильтров, Dropout"
   ]
  },
  {
   "cell_type": "code",
   "execution_count": 4,
   "id": "bbb8b93f",
   "metadata": {},
   "outputs": [],
   "source": [
    "def build_model(hp):\n",
    "    inputs = keras.Input(shape=(28, 28, 1))\n",
    "    # Тип модели - MLP или CNN.\n",
    "    model_type = hp.Choice(\"model_type\", [\"mlp\", \"cnn\"])\n",
    "    x = inputs\n",
    "    if model_type == \"mlp\":\n",
    "        x = layers.Flatten()(x)\n",
    "        # Гиперпараметр - Число слоев MLP.\n",
    "        for i in range(hp.Int(\"mlp_layers\", 1, 3)):\n",
    "            # Число фильтров для каждого слоя\n",
    "            output_node = layers.Dense(\n",
    "                units=hp.Int(f\"units_{i}\", 32, 128, step=32), activation=\"relu\",\n",
    "            )(x)\n",
    "    else:\n",
    "        # Гиперпараметр - Число слоев CNN.\n",
    "        for i in range(hp.Int(\"cnn_layers\", 1, 3)):\n",
    "            x = layers.Conv2D(\n",
    "                hp.Int(f\"filters_{i}\", 32, 128, step=32),\n",
    "                kernel_size=(3, 3),\n",
    "                activation=\"relu\",\n",
    "            )(x)\n",
    "            x = layers.MaxPooling2D(pool_size=(2, 2))(x)\n",
    "        x = layers.Flatten()(x)\n",
    "\n",
    "    # Гиперпараметр - используется или нет dropout.\n",
    "    if hp.Boolean(\"dropout\"):\n",
    "        x = layers.Dropout(0.5)(x)\n",
    "\n",
    "\n",
    "    outputs = layers.Dense(units=10, activation=\"softmax\")(x)\n",
    "    model = keras.Model(inputs=inputs, outputs=outputs)\n",
    "\n",
    "    # Компиляция модели.\n",
    "    model.compile(\n",
    "        loss=\"sparse_categorical_crossentropy\", metrics=[\"accuracy\"], optimizer=\"adam\",\n",
    "    )\n",
    "    return model"
   ]
  },
  {
   "cell_type": "code",
   "execution_count": 5,
   "id": "eb620b27",
   "metadata": {},
   "outputs": [
    {
     "name": "stderr",
     "output_type": "stream",
     "text": [
      "2022-05-11 05:17:02.567690: I tensorflow/compiler/jit/xla_cpu_device.cc:41] Not creating XLA devices, tf_xla_enable_xla_devices not set\n",
      "2022-05-11 05:17:02.578809: I tensorflow/core/platform/cpu_feature_guard.cc:142] This TensorFlow binary is optimized with oneAPI Deep Neural Network Library (oneDNN) to use the following CPU instructions in performance-critical operations:  SSE4.1 SSE4.2\n",
      "To enable them in other operations, rebuild TensorFlow with the appropriate compiler flags.\n",
      "2022-05-11 05:17:02.618107: I tensorflow/core/common_runtime/process_util.cc:146] Creating new thread pool with default inter op setting: 2. Tune using inter_op_parallelism_threads for best performance.\n"
     ]
    },
    {
     "name": "stdout",
     "output_type": "stream",
     "text": [
      "Model: \"model\"\n",
      "_________________________________________________________________\n",
      "Layer (type)                 Output Shape              Param #   \n",
      "=================================================================\n",
      "input_1 (InputLayer)         [(None, 28, 28, 1)]       0         \n",
      "_________________________________________________________________\n",
      "conv2d (Conv2D)              (None, 26, 26, 32)        320       \n",
      "_________________________________________________________________\n",
      "max_pooling2d (MaxPooling2D) (None, 13, 13, 32)        0         \n",
      "_________________________________________________________________\n",
      "flatten (Flatten)            (None, 5408)              0         \n",
      "_________________________________________________________________\n",
      "dense (Dense)                (None, 10)                54090     \n",
      "=================================================================\n",
      "Total params: 54,410\n",
      "Trainable params: 54,410\n",
      "Non-trainable params: 0\n",
      "_________________________________________________________________\n",
      "Model: \"model_1\"\n",
      "_________________________________________________________________\n",
      "Layer (type)                 Output Shape              Param #   \n",
      "=================================================================\n",
      "input_2 (InputLayer)         [(None, 28, 28, 1)]       0         \n",
      "_________________________________________________________________\n",
      "flatten_1 (Flatten)          (None, 784)               0         \n",
      "_________________________________________________________________\n",
      "dense_2 (Dense)              (None, 10)                7850      \n",
      "=================================================================\n",
      "Total params: 7,850\n",
      "Trainable params: 7,850\n",
      "Non-trainable params: 0\n",
      "_________________________________________________________________\n"
     ]
    }
   ],
   "source": [
    "hp = keras_tuner.HyperParameters()\n",
    "hp.values[\"model_type\"] = \"cnn\"\n",
    "\n",
    "model = build_model(hp)\n",
    "\n",
    "model(x_train[:100])\n",
    "\n",
    "model.summary()\n",
    "\n",
    "\n",
    "hp.values[\"model_type\"] = \"mlp\"\n",
    "model = build_model(hp)\n",
    "model(x_train[:100])\n",
    "model.summary()"
   ]
  },
  {
   "cell_type": "code",
   "execution_count": 6,
   "id": "a3885d18",
   "metadata": {},
   "outputs": [],
   "source": [
    "tuner = keras_tuner.RandomSearch(\n",
    "    build_model,\n",
    "    max_trials=10,\n",
    "\n",
    "    overwrite=True,\n",
    "    objective=\"val_accuracy\",\n",
    "  \n",
    "    directory=\"/tmp/tb\",\n",
    ")"
   ]
  },
  {
   "cell_type": "code",
   "execution_count": 7,
   "id": "5967361d",
   "metadata": {},
   "outputs": [
    {
     "name": "stdout",
     "output_type": "stream",
     "text": [
      "Trial 10 Complete [00h 05m 47s]\n",
      "val_accuracy: 0.9863333106040955\n",
      "\n",
      "Best val_accuracy So Far: 0.9863333106040955\n",
      "Total elapsed time: 00h 24m 38s\n",
      "INFO:tensorflow:Oracle triggered exit\n"
     ]
    }
   ],
   "source": [
    "tuner.search(\n",
    "    x_train,\n",
    "    y_train,\n",
    "    validation_split=0.2,\n",
    "    epochs=2,\n",
    " \n",
    "    callbacks=[keras.callbacks.TensorBoard(\"/tmp/tb_logs\")],\n",
    ")"
   ]
  },
  {
   "cell_type": "code",
   "execution_count": 8,
   "id": "65175b1d",
   "metadata": {},
   "outputs": [
    {
     "name": "stdout",
     "output_type": "stream",
     "text": [
      "Results summary\n",
      "Results in /tmp/tb/untitled_project\n",
      "Showing 10 best trials\n",
      "<keras_tuner.engine.objective.Objective object at 0x7f97f617c580>\n",
      "Trial summary\n",
      "Hyperparameters:\n",
      "model_type: cnn\n",
      "mlp_layers: 2\n",
      "units_0: 128\n",
      "dropout: True\n",
      "cnn_layers: 2\n",
      "filters_0: 96\n",
      "filters_1: 64\n",
      "units_1: 128\n",
      "filters_2: 64\n",
      "Score: 0.9863333106040955\n",
      "Trial summary\n",
      "Hyperparameters:\n",
      "model_type: cnn\n",
      "mlp_layers: 3\n",
      "units_0: 64\n",
      "dropout: False\n",
      "cnn_layers: 2\n",
      "filters_0: 96\n",
      "filters_1: 64\n",
      "Score: 0.984666645526886\n",
      "Trial summary\n",
      "Hyperparameters:\n",
      "model_type: cnn\n",
      "mlp_layers: 2\n",
      "units_0: 96\n",
      "dropout: False\n",
      "cnn_layers: 2\n",
      "filters_0: 32\n",
      "filters_1: 32\n",
      "Score: 0.9838333129882812\n",
      "Trial summary\n",
      "Hyperparameters:\n",
      "model_type: cnn\n",
      "mlp_layers: 3\n",
      "units_0: 64\n",
      "dropout: False\n",
      "cnn_layers: 3\n",
      "filters_0: 64\n",
      "filters_1: 64\n",
      "units_1: 96\n",
      "filters_2: 32\n",
      "Score: 0.9787499904632568\n",
      "Trial summary\n",
      "Hyperparameters:\n",
      "model_type: cnn\n",
      "mlp_layers: 3\n",
      "units_0: 64\n",
      "dropout: True\n",
      "cnn_layers: 1\n",
      "filters_0: 64\n",
      "filters_1: 96\n",
      "units_1: 128\n",
      "filters_2: 96\n",
      "Score: 0.9775000214576721\n",
      "Trial summary\n",
      "Hyperparameters:\n",
      "model_type: cnn\n",
      "mlp_layers: 2\n",
      "units_0: 64\n",
      "dropout: True\n",
      "cnn_layers: 1\n",
      "filters_0: 64\n",
      "filters_1: 128\n",
      "Score: 0.9774166941642761\n",
      "Trial summary\n",
      "Hyperparameters:\n",
      "model_type: cnn\n",
      "mlp_layers: 2\n",
      "units_0: 128\n",
      "dropout: True\n",
      "cnn_layers: 1\n",
      "filters_0: 32\n",
      "Score: 0.9750833511352539\n",
      "Trial summary\n",
      "Hyperparameters:\n",
      "model_type: mlp\n",
      "mlp_layers: 1\n",
      "units_0: 64\n",
      "dropout: False\n",
      "cnn_layers: 2\n",
      "filters_0: 96\n",
      "filters_1: 32\n",
      "units_1: 128\n",
      "Score: 0.9192500114440918\n",
      "Trial summary\n",
      "Hyperparameters:\n",
      "model_type: mlp\n",
      "mlp_layers: 1\n",
      "units_0: 64\n",
      "dropout: True\n",
      "cnn_layers: 2\n",
      "filters_0: 64\n",
      "filters_1: 64\n",
      "units_1: 64\n",
      "Score: 0.9136666655540466\n",
      "Trial summary\n",
      "Hyperparameters:\n",
      "model_type: mlp\n",
      "mlp_layers: 2\n",
      "units_0: 64\n",
      "dropout: True\n",
      "cnn_layers: 2\n",
      "filters_0: 96\n",
      "filters_1: 96\n",
      "units_1: 32\n",
      "Score: 0.9126666784286499\n"
     ]
    }
   ],
   "source": [
    "tuner.results_summary()"
   ]
  },
  {
   "cell_type": "markdown",
   "id": "3ddfbf70",
   "metadata": {},
   "source": [
    "### Learning Curves"
   ]
  },
  {
   "cell_type": "code",
   "execution_count": 9,
   "id": "b802be59",
   "metadata": {},
   "outputs": [],
   "source": [
    "#!pip3 install --upgrade tensorboard"
   ]
  },
  {
   "cell_type": "code",
   "execution_count": 10,
   "id": "ceeaf5bc",
   "metadata": {},
   "outputs": [
    {
     "data": {
      "text/html": [
       "\n",
       "      <iframe id=\"tensorboard-frame-9c49d3c33edbf596\" width=\"100%\" height=\"800\" frameborder=\"0\">\n",
       "      </iframe>\n",
       "      <script>\n",
       "        (function() {\n",
       "          const frame = document.getElementById(\"tensorboard-frame-9c49d3c33edbf596\");\n",
       "          const url = new URL(\"/\", window.location);\n",
       "          const port = 6006;\n",
       "          if (port) {\n",
       "            url.port = port;\n",
       "          }\n",
       "          frame.src = url;\n",
       "        })();\n",
       "      </script>\n",
       "    "
      ],
      "text/plain": [
       "<IPython.core.display.HTML object>"
      ]
     },
     "metadata": {},
     "output_type": "display_data"
    }
   ],
   "source": [
    "%load_ext tensorboard\n",
    "%tensorboard --logdir /tmp/tb_logs"
   ]
  },
  {
   "cell_type": "markdown",
   "id": "faee5f75",
   "metadata": {},
   "source": [
    "### Prediction"
   ]
  },
  {
   "cell_type": "code",
   "execution_count": 12,
   "id": "6f0242b5",
   "metadata": {},
   "outputs": [],
   "source": [
    "best_hps = tuner.get_best_hyperparameters(2)\n",
    "model = build_model(best_hps[0])"
   ]
  },
  {
   "cell_type": "code",
   "execution_count": 16,
   "id": "823be9b3",
   "metadata": {},
   "outputs": [
    {
     "name": "stdout",
     "output_type": "stream",
     "text": [
      "Epoch 1/10\n",
      "938/938 [==============================] - 171s 182ms/step - loss: 0.5080 - accuracy: 0.8469\n",
      "Epoch 2/10\n",
      "938/938 [==============================] - 178s 190ms/step - loss: 0.0876 - accuracy: 0.9732\n",
      "Epoch 3/10\n",
      "938/938 [==============================] - 165s 175ms/step - loss: 0.0690 - accuracy: 0.9783\n",
      "Epoch 4/10\n",
      "938/938 [==============================] - 167s 178ms/step - loss: 0.0557 - accuracy: 0.9828\n",
      "Epoch 5/10\n",
      "938/938 [==============================] - 160s 171ms/step - loss: 0.0515 - accuracy: 0.9841\n",
      "Epoch 6/10\n",
      "938/938 [==============================] - 161s 172ms/step - loss: 0.0440 - accuracy: 0.9862\n",
      "Epoch 7/10\n",
      "938/938 [==============================] - 159s 169ms/step - loss: 0.0411 - accuracy: 0.9872\n",
      "Epoch 8/10\n",
      "938/938 [==============================] - 163s 174ms/step - loss: 0.0381 - accuracy: 0.9883\n",
      "Epoch 9/10\n",
      "938/938 [==============================] - 157s 167ms/step - loss: 0.0352 - accuracy: 0.9887\n",
      "Epoch 10/10\n",
      "938/938 [==============================] - 159s 169ms/step - loss: 0.0334 - accuracy: 0.9892\n",
      "\n",
      "# Оценка\n",
      "157/157 [==============================] - 14s 88ms/step - loss: 0.0236 - accuracy: 0.9923\n"
     ]
    },
    {
     "data": {
      "text/plain": [
       "[0.023576563224196434, 0.9922999739646912]"
      ]
     },
     "execution_count": 16,
     "metadata": {},
     "output_type": "execute_result"
    }
   ],
   "source": [
    "train_dataset = tf.data.Dataset.from_tensor_slices((x_train, y_train))\n",
    "train_dataset = train_dataset.shuffle(buffer_size=1024).batch(64)\n",
    "\n",
    "test_dataset = tf.data.Dataset.from_tensor_slices((x_test, y_test))\n",
    "test_dataset = test_dataset.batch(64)\n",
    "\n",
    "model.fit(train_dataset, epochs=10)\n",
    "\n",
    "print('\\n# Оценка')\n",
    "model.evaluate(test_dataset)"
   ]
  },
  {
   "cell_type": "code",
   "execution_count": null,
   "id": "b7cfebfc",
   "metadata": {},
   "outputs": [],
   "source": []
  }
 ],
 "metadata": {
  "kernelspec": {
   "display_name": "Python 3 (ipykernel)",
   "language": "python",
   "name": "python3"
  },
  "language_info": {
   "codemirror_mode": {
    "name": "ipython",
    "version": 3
   },
   "file_extension": ".py",
   "mimetype": "text/x-python",
   "name": "python",
   "nbconvert_exporter": "python",
   "pygments_lexer": "ipython3",
   "version": "3.9.7"
  }
 },
 "nbformat": 4,
 "nbformat_minor": 5
}
